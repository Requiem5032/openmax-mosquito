{
 "cells": [
  {
   "cell_type": "code",
   "execution_count": 1,
   "metadata": {},
   "outputs": [
    {
     "name": "stderr",
     "output_type": "stream",
     "text": [
      "2024-04-07 19:10:12.957768: E external/local_xla/xla/stream_executor/cuda/cuda_dnn.cc:9261] Unable to register cuDNN factory: Attempting to register factory for plugin cuDNN when one has already been registered\n",
      "2024-04-07 19:10:12.957792: E external/local_xla/xla/stream_executor/cuda/cuda_fft.cc:607] Unable to register cuFFT factory: Attempting to register factory for plugin cuFFT when one has already been registered\n",
      "2024-04-07 19:10:12.958512: E external/local_xla/xla/stream_executor/cuda/cuda_blas.cc:1515] Unable to register cuBLAS factory: Attempting to register factory for plugin cuBLAS when one has already been registered\n",
      "2024-04-07 19:10:12.962408: I tensorflow/core/platform/cpu_feature_guard.cc:182] This TensorFlow binary is optimized to use available CPU instructions in performance-critical operations.\n",
      "To enable the following instructions: AVX2 FMA, in other operations, rebuild TensorFlow with the appropriate compiler flags.\n",
      "2024-04-07 19:10:13.487444: W tensorflow/compiler/tf2tensorrt/utils/py_utils.cc:38] TF-TRT Warning: Could not find TensorRT\n"
     ]
    }
   ],
   "source": [
    "from utils.data_loader import split_data, get_data_map, validate_split, prepare_data, get_unique_species"
   ]
  },
  {
   "cell_type": "code",
   "execution_count": 2,
   "metadata": {},
   "outputs": [],
   "source": [
    "FOLD = 'big'"
   ]
  },
  {
   "cell_type": "code",
   "execution_count": 3,
   "metadata": {},
   "outputs": [],
   "source": [
    "split_df = split_data(fold_num=FOLD)"
   ]
  },
  {
   "cell_type": "code",
   "execution_count": 4,
   "metadata": {},
   "outputs": [],
   "source": [
    "map = get_data_map()"
   ]
  },
  {
   "cell_type": "code",
   "execution_count": 5,
   "metadata": {},
   "outputs": [
    {
     "name": "stdout",
     "output_type": "stream",
     "text": [
      "Index 0, files found in data/aedes/aegypti/: 921, files according to split: 896\n",
      "Index 1, files found in data/aedes/albopictus/: 692, files according to split: 725\n",
      "Index 3, files found in data/aedes/canadensis/: 128, files according to split: 46\n",
      "Index 11, files found in data/aedes/japonicus/: 1093, files according to split: 1103\n",
      "Index 12, files found in data/aedes/mediovittatus/: 84, files according to split: 13\n",
      "Index 23, files found in data/aedes/vexans/: 364, files according to split: 295\n",
      "Index 25, files found in data/anopheles/coustani/: 142, files according to split: 148\n",
      "Index 27, files found in data/anopheles/crucians_sl/b/: 74, files according to split: 39\n",
      "Index 28, files found in data/anopheles/crucians_sl/c/: 61, files according to split: 14\n",
      "Index 29, files found in data/anopheles/crucians_sl/sl/: 114, files according to split: 205\n",
      "Index 32, files found in data/anopheles/freeborni/: 570, files according to split: 574\n",
      "Index 33, files found in data/anopheles/funestus_sl/sl/: 238, files according to split: 28\n",
      "Index 35, files found in data/anopheles/gambiae_sl/arabiensis/: 800, files according to split: 753\n",
      "Index 36, files found in data/anopheles/gambiae_sl/coluzzii/: 86, files according to split: 96\n",
      "Index 37, files found in data/anopheles/gambiae_sl/sl/: 48, files according to split: 222\n",
      "Index 38, files found in data/anopheles/gambiae_sl/ss/: 226, files according to split: 110\n",
      "Index 43, files found in data/anopheles/punctipennis/: 212, files according to split: 223\n",
      "Index 49, files found in data/coquillettidia/perturbans/: 204, files according to split: 127\n",
      "Index 50, files found in data/culex/antillummagnorum/: 28, files according to split: 13\n",
      "Index 53, files found in data/culex/erraticus/: 343, files according to split: 346\n",
      "Index 55, files found in data/culex/pipiens_sl/: 1503, files according to split: 1496\n",
      "Index 57, files found in data/culex/salinarius/: 163, files according to split: 172\n",
      "Index 60, files found in data/culiseta/incidens/: 45, files according to split: 53\n",
      "Index 67, files found in data/psorophora/ciliata/: 169, files according to split: 173\n",
      "Index 68, files found in data/psorophora/columbiae/: 423, files according to split: 403\n"
     ]
    }
   ],
   "source": [
    "validate_split(split_df, map)"
   ]
  },
  {
   "cell_type": "code",
   "execution_count": 6,
   "metadata": {},
   "outputs": [
    {
     "name": "stderr",
     "output_type": "stream",
     "text": [
      "/home/bit/Workpaces/pace-up/openmax-body-img/.venv/lib/python3.11/site-packages/numpy/core/fromnumeric.py:59: FutureWarning: 'DataFrame.swapaxes' is deprecated and will be removed in a future version. Please use 'DataFrame.transpose' instead.\n",
      "  return bound(*args, **kwds)\n",
      "/home/bit/Workpaces/pace-up/openmax-body-img/.venv/lib/python3.11/site-packages/numpy/core/fromnumeric.py:59: FutureWarning: 'DataFrame.swapaxes' is deprecated and will be removed in a future version. Please use 'DataFrame.transpose' instead.\n",
      "  return bound(*args, **kwds)\n",
      "/home/bit/Workpaces/pace-up/openmax-body-img/.venv/lib/python3.11/site-packages/numpy/core/fromnumeric.py:59: FutureWarning: 'DataFrame.swapaxes' is deprecated and will be removed in a future version. Please use 'DataFrame.transpose' instead.\n",
      "  return bound(*args, **kwds)\n",
      "/home/bit/Workpaces/pace-up/openmax-body-img/.venv/lib/python3.11/site-packages/numpy/core/fromnumeric.py:59: FutureWarning: 'DataFrame.swapaxes' is deprecated and will be removed in a future version. Please use 'DataFrame.transpose' instead.\n",
      "  return bound(*args, **kwds)\n",
      "/home/bit/Workpaces/pace-up/openmax-body-img/.venv/lib/python3.11/site-packages/numpy/core/fromnumeric.py:59: FutureWarning: 'DataFrame.swapaxes' is deprecated and will be removed in a future version. Please use 'DataFrame.transpose' instead.\n",
      "  return bound(*args, **kwds)\n",
      "/home/bit/Workpaces/pace-up/openmax-body-img/.venv/lib/python3.11/site-packages/numpy/core/fromnumeric.py:59: FutureWarning: 'DataFrame.swapaxes' is deprecated and will be removed in a future version. Please use 'DataFrame.transpose' instead.\n",
      "  return bound(*args, **kwds)\n",
      "/home/bit/Workpaces/pace-up/openmax-body-img/.venv/lib/python3.11/site-packages/numpy/core/fromnumeric.py:59: FutureWarning: 'DataFrame.swapaxes' is deprecated and will be removed in a future version. Please use 'DataFrame.transpose' instead.\n",
      "  return bound(*args, **kwds)\n",
      "/home/bit/Workpaces/pace-up/openmax-body-img/.venv/lib/python3.11/site-packages/numpy/core/fromnumeric.py:59: FutureWarning: 'DataFrame.swapaxes' is deprecated and will be removed in a future version. Please use 'DataFrame.transpose' instead.\n",
      "  return bound(*args, **kwds)\n",
      "/home/bit/Workpaces/pace-up/openmax-body-img/.venv/lib/python3.11/site-packages/numpy/core/fromnumeric.py:59: FutureWarning: 'DataFrame.swapaxes' is deprecated and will be removed in a future version. Please use 'DataFrame.transpose' instead.\n",
      "  return bound(*args, **kwds)\n",
      "/home/bit/Workpaces/pace-up/openmax-body-img/.venv/lib/python3.11/site-packages/numpy/core/fromnumeric.py:59: FutureWarning: 'DataFrame.swapaxes' is deprecated and will be removed in a future version. Please use 'DataFrame.transpose' instead.\n",
      "  return bound(*args, **kwds)\n",
      "/home/bit/Workpaces/pace-up/openmax-body-img/.venv/lib/python3.11/site-packages/numpy/core/fromnumeric.py:59: FutureWarning: 'DataFrame.swapaxes' is deprecated and will be removed in a future version. Please use 'DataFrame.transpose' instead.\n",
      "  return bound(*args, **kwds)\n",
      "/home/bit/Workpaces/pace-up/openmax-body-img/.venv/lib/python3.11/site-packages/numpy/core/fromnumeric.py:59: FutureWarning: 'DataFrame.swapaxes' is deprecated and will be removed in a future version. Please use 'DataFrame.transpose' instead.\n",
      "  return bound(*args, **kwds)\n",
      "/home/bit/Workpaces/pace-up/openmax-body-img/.venv/lib/python3.11/site-packages/numpy/core/fromnumeric.py:59: FutureWarning: 'DataFrame.swapaxes' is deprecated and will be removed in a future version. Please use 'DataFrame.transpose' instead.\n",
      "  return bound(*args, **kwds)\n",
      "/home/bit/Workpaces/pace-up/openmax-body-img/.venv/lib/python3.11/site-packages/numpy/core/fromnumeric.py:59: FutureWarning: 'DataFrame.swapaxes' is deprecated and will be removed in a future version. Please use 'DataFrame.transpose' instead.\n",
      "  return bound(*args, **kwds)\n",
      "/home/bit/Workpaces/pace-up/openmax-body-img/.venv/lib/python3.11/site-packages/numpy/core/fromnumeric.py:59: FutureWarning: 'DataFrame.swapaxes' is deprecated and will be removed in a future version. Please use 'DataFrame.transpose' instead.\n",
      "  return bound(*args, **kwds)\n",
      "/home/bit/Workpaces/pace-up/openmax-body-img/.venv/lib/python3.11/site-packages/numpy/core/fromnumeric.py:59: FutureWarning: 'DataFrame.swapaxes' is deprecated and will be removed in a future version. Please use 'DataFrame.transpose' instead.\n",
      "  return bound(*args, **kwds)\n",
      "/home/bit/Workpaces/pace-up/openmax-body-img/.venv/lib/python3.11/site-packages/numpy/core/fromnumeric.py:59: FutureWarning: 'DataFrame.swapaxes' is deprecated and will be removed in a future version. Please use 'DataFrame.transpose' instead.\n",
      "  return bound(*args, **kwds)\n",
      "/home/bit/Workpaces/pace-up/openmax-body-img/.venv/lib/python3.11/site-packages/numpy/core/fromnumeric.py:59: FutureWarning: 'DataFrame.swapaxes' is deprecated and will be removed in a future version. Please use 'DataFrame.transpose' instead.\n",
      "  return bound(*args, **kwds)\n",
      "/home/bit/Workpaces/pace-up/openmax-body-img/.venv/lib/python3.11/site-packages/numpy/core/fromnumeric.py:59: FutureWarning: 'DataFrame.swapaxes' is deprecated and will be removed in a future version. Please use 'DataFrame.transpose' instead.\n",
      "  return bound(*args, **kwds)\n",
      "/home/bit/Workpaces/pace-up/openmax-body-img/.venv/lib/python3.11/site-packages/numpy/core/fromnumeric.py:59: FutureWarning: 'DataFrame.swapaxes' is deprecated and will be removed in a future version. Please use 'DataFrame.transpose' instead.\n",
      "  return bound(*args, **kwds)\n",
      "/home/bit/Workpaces/pace-up/openmax-body-img/.venv/lib/python3.11/site-packages/numpy/core/fromnumeric.py:59: FutureWarning: 'DataFrame.swapaxes' is deprecated and will be removed in a future version. Please use 'DataFrame.transpose' instead.\n",
      "  return bound(*args, **kwds)\n",
      "/home/bit/Workpaces/pace-up/openmax-body-img/.venv/lib/python3.11/site-packages/numpy/core/fromnumeric.py:59: FutureWarning: 'DataFrame.swapaxes' is deprecated and will be removed in a future version. Please use 'DataFrame.transpose' instead.\n",
      "  return bound(*args, **kwds)\n",
      "/home/bit/Workpaces/pace-up/openmax-body-img/.venv/lib/python3.11/site-packages/numpy/core/fromnumeric.py:59: FutureWarning: 'DataFrame.swapaxes' is deprecated and will be removed in a future version. Please use 'DataFrame.transpose' instead.\n",
      "  return bound(*args, **kwds)\n",
      "/home/bit/Workpaces/pace-up/openmax-body-img/.venv/lib/python3.11/site-packages/numpy/core/fromnumeric.py:59: FutureWarning: 'DataFrame.swapaxes' is deprecated and will be removed in a future version. Please use 'DataFrame.transpose' instead.\n",
      "  return bound(*args, **kwds)\n",
      "/home/bit/Workpaces/pace-up/openmax-body-img/.venv/lib/python3.11/site-packages/numpy/core/fromnumeric.py:59: FutureWarning: 'DataFrame.swapaxes' is deprecated and will be removed in a future version. Please use 'DataFrame.transpose' instead.\n",
      "  return bound(*args, **kwds)\n",
      "/home/bit/Workpaces/pace-up/openmax-body-img/.venv/lib/python3.11/site-packages/numpy/core/fromnumeric.py:59: FutureWarning: 'DataFrame.swapaxes' is deprecated and will be removed in a future version. Please use 'DataFrame.transpose' instead.\n",
      "  return bound(*args, **kwds)\n",
      "/home/bit/Workpaces/pace-up/openmax-body-img/.venv/lib/python3.11/site-packages/numpy/core/fromnumeric.py:59: FutureWarning: 'DataFrame.swapaxes' is deprecated and will be removed in a future version. Please use 'DataFrame.transpose' instead.\n",
      "  return bound(*args, **kwds)\n",
      "/home/bit/Workpaces/pace-up/openmax-body-img/.venv/lib/python3.11/site-packages/numpy/core/fromnumeric.py:59: FutureWarning: 'DataFrame.swapaxes' is deprecated and will be removed in a future version. Please use 'DataFrame.transpose' instead.\n",
      "  return bound(*args, **kwds)\n",
      "/home/bit/Workpaces/pace-up/openmax-body-img/.venv/lib/python3.11/site-packages/numpy/core/fromnumeric.py:59: FutureWarning: 'DataFrame.swapaxes' is deprecated and will be removed in a future version. Please use 'DataFrame.transpose' instead.\n",
      "  return bound(*args, **kwds)\n",
      "/home/bit/Workpaces/pace-up/openmax-body-img/.venv/lib/python3.11/site-packages/numpy/core/fromnumeric.py:59: FutureWarning: 'DataFrame.swapaxes' is deprecated and will be removed in a future version. Please use 'DataFrame.transpose' instead.\n",
      "  return bound(*args, **kwds)\n",
      "/home/bit/Workpaces/pace-up/openmax-body-img/.venv/lib/python3.11/site-packages/numpy/core/fromnumeric.py:59: FutureWarning: 'DataFrame.swapaxes' is deprecated and will be removed in a future version. Please use 'DataFrame.transpose' instead.\n",
      "  return bound(*args, **kwds)\n",
      "/home/bit/Workpaces/pace-up/openmax-body-img/.venv/lib/python3.11/site-packages/numpy/core/fromnumeric.py:59: FutureWarning: 'DataFrame.swapaxes' is deprecated and will be removed in a future version. Please use 'DataFrame.transpose' instead.\n",
      "  return bound(*args, **kwds)\n",
      "/home/bit/Workpaces/pace-up/openmax-body-img/.venv/lib/python3.11/site-packages/numpy/core/fromnumeric.py:59: FutureWarning: 'DataFrame.swapaxes' is deprecated and will be removed in a future version. Please use 'DataFrame.transpose' instead.\n",
      "  return bound(*args, **kwds)\n",
      "/home/bit/Workpaces/pace-up/openmax-body-img/.venv/lib/python3.11/site-packages/numpy/core/fromnumeric.py:59: FutureWarning: 'DataFrame.swapaxes' is deprecated and will be removed in a future version. Please use 'DataFrame.transpose' instead.\n",
      "  return bound(*args, **kwds)\n",
      "/home/bit/Workpaces/pace-up/openmax-body-img/.venv/lib/python3.11/site-packages/numpy/core/fromnumeric.py:59: FutureWarning: 'DataFrame.swapaxes' is deprecated and will be removed in a future version. Please use 'DataFrame.transpose' instead.\n",
      "  return bound(*args, **kwds)\n",
      "/home/bit/Workpaces/pace-up/openmax-body-img/.venv/lib/python3.11/site-packages/numpy/core/fromnumeric.py:59: FutureWarning: 'DataFrame.swapaxes' is deprecated and will be removed in a future version. Please use 'DataFrame.transpose' instead.\n",
      "  return bound(*args, **kwds)\n",
      "/home/bit/Workpaces/pace-up/openmax-body-img/.venv/lib/python3.11/site-packages/numpy/core/fromnumeric.py:59: FutureWarning: 'DataFrame.swapaxes' is deprecated and will be removed in a future version. Please use 'DataFrame.transpose' instead.\n",
      "  return bound(*args, **kwds)\n",
      "/home/bit/Workpaces/pace-up/openmax-body-img/.venv/lib/python3.11/site-packages/numpy/core/fromnumeric.py:59: FutureWarning: 'DataFrame.swapaxes' is deprecated and will be removed in a future version. Please use 'DataFrame.transpose' instead.\n",
      "  return bound(*args, **kwds)\n",
      "/home/bit/Workpaces/pace-up/openmax-body-img/.venv/lib/python3.11/site-packages/numpy/core/fromnumeric.py:59: FutureWarning: 'DataFrame.swapaxes' is deprecated and will be removed in a future version. Please use 'DataFrame.transpose' instead.\n",
      "  return bound(*args, **kwds)\n",
      "/home/bit/Workpaces/pace-up/openmax-body-img/.venv/lib/python3.11/site-packages/numpy/core/fromnumeric.py:59: FutureWarning: 'DataFrame.swapaxes' is deprecated and will be removed in a future version. Please use 'DataFrame.transpose' instead.\n",
      "  return bound(*args, **kwds)\n",
      "/home/bit/Workpaces/pace-up/openmax-body-img/.venv/lib/python3.11/site-packages/numpy/core/fromnumeric.py:59: FutureWarning: 'DataFrame.swapaxes' is deprecated and will be removed in a future version. Please use 'DataFrame.transpose' instead.\n",
      "  return bound(*args, **kwds)\n",
      "/home/bit/Workpaces/pace-up/openmax-body-img/.venv/lib/python3.11/site-packages/numpy/core/fromnumeric.py:59: FutureWarning: 'DataFrame.swapaxes' is deprecated and will be removed in a future version. Please use 'DataFrame.transpose' instead.\n",
      "  return bound(*args, **kwds)\n",
      "/home/bit/Workpaces/pace-up/openmax-body-img/.venv/lib/python3.11/site-packages/numpy/core/fromnumeric.py:59: FutureWarning: 'DataFrame.swapaxes' is deprecated and will be removed in a future version. Please use 'DataFrame.transpose' instead.\n",
      "  return bound(*args, **kwds)\n",
      "/home/bit/Workpaces/pace-up/openmax-body-img/.venv/lib/python3.11/site-packages/numpy/core/fromnumeric.py:59: FutureWarning: 'DataFrame.swapaxes' is deprecated and will be removed in a future version. Please use 'DataFrame.transpose' instead.\n",
      "  return bound(*args, **kwds)\n",
      "/home/bit/Workpaces/pace-up/openmax-body-img/.venv/lib/python3.11/site-packages/numpy/core/fromnumeric.py:59: FutureWarning: 'DataFrame.swapaxes' is deprecated and will be removed in a future version. Please use 'DataFrame.transpose' instead.\n",
      "  return bound(*args, **kwds)\n",
      "/home/bit/Workpaces/pace-up/openmax-body-img/.venv/lib/python3.11/site-packages/numpy/core/fromnumeric.py:59: FutureWarning: 'DataFrame.swapaxes' is deprecated and will be removed in a future version. Please use 'DataFrame.transpose' instead.\n",
      "  return bound(*args, **kwds)\n",
      "/home/bit/Workpaces/pace-up/openmax-body-img/.venv/lib/python3.11/site-packages/numpy/core/fromnumeric.py:59: FutureWarning: 'DataFrame.swapaxes' is deprecated and will be removed in a future version. Please use 'DataFrame.transpose' instead.\n",
      "  return bound(*args, **kwds)\n",
      "/home/bit/Workpaces/pace-up/openmax-body-img/.venv/lib/python3.11/site-packages/numpy/core/fromnumeric.py:59: FutureWarning: 'DataFrame.swapaxes' is deprecated and will be removed in a future version. Please use 'DataFrame.transpose' instead.\n",
      "  return bound(*args, **kwds)\n",
      "/home/bit/Workpaces/pace-up/openmax-body-img/.venv/lib/python3.11/site-packages/numpy/core/fromnumeric.py:59: FutureWarning: 'DataFrame.swapaxes' is deprecated and will be removed in a future version. Please use 'DataFrame.transpose' instead.\n",
      "  return bound(*args, **kwds)\n",
      "/home/bit/Workpaces/pace-up/openmax-body-img/.venv/lib/python3.11/site-packages/numpy/core/fromnumeric.py:59: FutureWarning: 'DataFrame.swapaxes' is deprecated and will be removed in a future version. Please use 'DataFrame.transpose' instead.\n",
      "  return bound(*args, **kwds)\n",
      "/home/bit/Workpaces/pace-up/openmax-body-img/.venv/lib/python3.11/site-packages/numpy/core/fromnumeric.py:59: FutureWarning: 'DataFrame.swapaxes' is deprecated and will be removed in a future version. Please use 'DataFrame.transpose' instead.\n",
      "  return bound(*args, **kwds)\n",
      "/home/bit/Workpaces/pace-up/openmax-body-img/.venv/lib/python3.11/site-packages/numpy/core/fromnumeric.py:59: FutureWarning: 'DataFrame.swapaxes' is deprecated and will be removed in a future version. Please use 'DataFrame.transpose' instead.\n",
      "  return bound(*args, **kwds)\n",
      "/home/bit/Workpaces/pace-up/openmax-body-img/.venv/lib/python3.11/site-packages/numpy/core/fromnumeric.py:59: FutureWarning: 'DataFrame.swapaxes' is deprecated and will be removed in a future version. Please use 'DataFrame.transpose' instead.\n",
      "  return bound(*args, **kwds)\n"
     ]
    }
   ],
   "source": [
    "output_df = prepare_data(FOLD)\n",
    "train_count = (output_df['Split'] == 'train').sum()\n",
    "val_count = (output_df['Split'] == 'val').sum()\n",
    "test_count = (output_df['Split'] == 'test').sum()\n",
    "ext_count = (output_df['Split'] == 'ext_test').sum()\n",
    "total_count = train_count + val_count + test_count"
   ]
  },
  {
   "cell_type": "code",
   "execution_count": 7,
   "metadata": {},
   "outputs": [
    {
     "name": "stdout",
     "output_type": "stream",
     "text": [
      "Total img num: 12977\n",
      "Train: 8789\n",
      "Val: 1871\n",
      "Test: 1989\n",
      "Ext: 328\n",
      "Ratio: 0.6948375365641553, 0.14791683137006878, 0.15724563206577596\n"
     ]
    }
   ],
   "source": [
    "print(f'Total img num: {len(output_df)}')\n",
    "print(f'Train: {train_count}')\n",
    "print(f'Val: {val_count}')\n",
    "print(f'Test: {test_count}')\n",
    "print(f'Ext: {ext_count}')\n",
    "print(f'Ratio: {train_count/total_count}, {val_count/total_count}, {test_count/total_count}')"
   ]
  },
  {
   "cell_type": "code",
   "execution_count": 8,
   "metadata": {},
   "outputs": [],
   "source": [
    "unique_genus, unique_species = get_unique_species(FOLD)"
   ]
  },
  {
   "cell_type": "code",
   "execution_count": 9,
   "metadata": {},
   "outputs": [
    {
     "data": {
      "text/plain": [
       "['aedes',\n",
       " 'anopheles',\n",
       " 'culex',\n",
       " 'coquillettidia',\n",
       " 'culiseta',\n",
       " 'deinocerites',\n",
       " 'mansonia',\n",
       " 'psorophora',\n",
       " 'mosquito']"
      ]
     },
     "execution_count": 9,
     "metadata": {},
     "output_type": "execute_result"
    }
   ],
   "source": [
    "unique_genus"
   ]
  },
  {
   "cell_type": "code",
   "execution_count": 10,
   "metadata": {},
   "outputs": [
    {
     "data": {
      "text/plain": [
       "['aedes aedes_aegypti',\n",
       " 'aedes aedes_albopictus',\n",
       " 'aedes aedes_atlanticus',\n",
       " 'aedes aedes_canadensis',\n",
       " 'aedes aedes_dorsalis',\n",
       " 'aedes aedes_flavescens',\n",
       " 'aedes aedes_infirmatus',\n",
       " 'aedes aedes_japonicus',\n",
       " 'aedes aedes_nigromaculis',\n",
       " 'aedes aedes_sollicitans',\n",
       " 'aedes aedes_taeniorhynchus',\n",
       " 'aedes aedes_triseriatus',\n",
       " 'aedes aedes_trivittatus',\n",
       " 'aedes aedes_vexans',\n",
       " 'anopheles anopheles_coustani',\n",
       " 'anopheles anopheles_crucians',\n",
       " 'anopheles anopheles_freeborni',\n",
       " 'anopheles anopheles_funestus',\n",
       " 'anopheles anopheles_gambiae',\n",
       " 'anopheles anopheles_pseudopunctipennis',\n",
       " 'anopheles anopheles_punctipennis',\n",
       " 'anopheles anopheles_quadrimaculatus',\n",
       " 'coquillettidia coquillettidia_perturbans',\n",
       " 'culex culex_coronator',\n",
       " 'culex culex_erraticus',\n",
       " 'culex culex_nigripalpus',\n",
       " 'culex culex_pipiens_sl',\n",
       " 'culex culex_restuans',\n",
       " 'culex culex_salinarius',\n",
       " 'culiseta culiseta_incidens',\n",
       " 'culiseta culiseta_inornata',\n",
       " 'deinocerites deinocerites_cancer',\n",
       " 'deinocerites deinocerites_cuba-1',\n",
       " 'mansonia mansonia_titillans',\n",
       " 'psorophora psorophora_ciliata',\n",
       " 'psorophora psorophora_columbiae',\n",
       " 'psorophora psorophora_cyanescens',\n",
       " 'psorophora psorophora_ferox',\n",
       " 'psorophora psorophora_pygmaea',\n",
       " 'aedes aedes_spp',\n",
       " 'anopheles anopheles_spp',\n",
       " 'culex culex_spp',\n",
       " 'psorophora psorophora_spp',\n",
       " 'mosquito']"
      ]
     },
     "execution_count": 10,
     "metadata": {},
     "output_type": "execute_result"
    }
   ],
   "source": [
    "unique_species"
   ]
  },
  {
   "cell_type": "code",
   "execution_count": 11,
   "metadata": {},
   "outputs": [
    {
     "name": "stdout",
     "output_type": "stream",
     "text": [
      "Congratulations. No specimen leak.\n",
      "Total number of specimens:  2696\n"
     ]
    }
   ],
   "source": [
    "sample_to_set = {}\n",
    "for i, row in output_df.iterrows():\n",
    "    sample = row['ID'].split('/')[-1].split('_')[0]\n",
    "    if sample in sample_to_set:\n",
    "        assert row['Split'] == sample_to_set[sample]\n",
    "    else:\n",
    "        sample_to_set[sample] = row['Split']\n",
    "print(\"Congratulations. No specimen leak.\")\n",
    "print('Total number of specimens: ', len(sample_to_set))"
   ]
  },
  {
   "cell_type": "code",
   "execution_count": 12,
   "metadata": {},
   "outputs": [],
   "source": [
    "output_df.to_csv('data/datasplit_fold{}.csv'.format(FOLD), index=False)"
   ]
  }
 ],
 "metadata": {
  "kernelspec": {
   "display_name": ".venv",
   "language": "python",
   "name": "python3"
  },
  "language_info": {
   "codemirror_mode": {
    "name": "ipython",
    "version": 3
   },
   "file_extension": ".py",
   "mimetype": "text/x-python",
   "name": "python",
   "nbconvert_exporter": "python",
   "pygments_lexer": "ipython3",
   "version": "3.11.2"
  }
 },
 "nbformat": 4,
 "nbformat_minor": 2
}
