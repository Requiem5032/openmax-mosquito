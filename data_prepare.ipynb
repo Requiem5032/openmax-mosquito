{
 "cells": [
  {
   "cell_type": "code",
   "execution_count": null,
   "metadata": {},
   "outputs": [],
   "source": [
    "from utils.data_loader import split_data, get_data_map, validate_split, prepare_data, get_unique_species"
   ]
  },
  {
   "cell_type": "code",
   "execution_count": null,
   "metadata": {},
   "outputs": [],
   "source": [
    "FOLD = 1"
   ]
  },
  {
   "cell_type": "code",
   "execution_count": null,
   "metadata": {},
   "outputs": [],
   "source": [
    "split_df = split_data(fold_num=FOLD)"
   ]
  },
  {
   "cell_type": "code",
   "execution_count": null,
   "metadata": {},
   "outputs": [],
   "source": [
    "map = get_data_map()"
   ]
  },
  {
   "cell_type": "code",
   "execution_count": null,
   "metadata": {},
   "outputs": [],
   "source": [
    "validate_split(split_df, map)"
   ]
  },
  {
   "cell_type": "code",
   "execution_count": null,
   "metadata": {},
   "outputs": [],
   "source": [
    "output_df = prepare_data(FOLD)\n",
    "train_count = (output_df['Split'] == 'train').sum()\n",
    "val_count = (output_df['Split'] == 'val').sum()\n",
    "test_count = (output_df['Split'] == 'test').sum()\n",
    "ext_count = (output_df['Split'] == 'ext_test').sum()\n",
    "total_count = train_count + val_count + test_count"
   ]
  },
  {
   "cell_type": "code",
   "execution_count": null,
   "metadata": {},
   "outputs": [],
   "source": [
    "print(f'Total img num: {len(output_df)}')\n",
    "print(f'Train: {train_count}')\n",
    "print(f'Val: {val_count}')\n",
    "print(f'Test: {test_count}')\n",
    "print(f'Ext: {ext_count}')\n",
    "print(f'Ratio: {train_count/total_count}, {val_count/total_count}, {test_count/total_count}')"
   ]
  },
  {
   "cell_type": "code",
   "execution_count": null,
   "metadata": {},
   "outputs": [],
   "source": [
    "unique_genus, unique_species = get_unique_species(FOLD)"
   ]
  },
  {
   "cell_type": "code",
   "execution_count": null,
   "metadata": {},
   "outputs": [],
   "source": [
    "unique_genus"
   ]
  },
  {
   "cell_type": "code",
   "execution_count": null,
   "metadata": {},
   "outputs": [],
   "source": [
    "unique_species"
   ]
  },
  {
   "cell_type": "code",
   "execution_count": null,
   "metadata": {},
   "outputs": [],
   "source": [
    "sample_to_set = {}\n",
    "for i, row in output_df.iterrows():\n",
    "    sample = row['ID'].split('/')[-1].split('_')[0]\n",
    "    if sample in sample_to_set:\n",
    "        assert row['Split'] == sample_to_set[sample]\n",
    "    else:\n",
    "        sample_to_set[sample] = row['Split']\n",
    "print(\"Congratulations. No specimen leak.\")\n",
    "print('Total number of specimens: ', len(sample_to_set))"
   ]
  },
  {
   "cell_type": "code",
   "execution_count": null,
   "metadata": {},
   "outputs": [],
   "source": [
    "output_df.to_csv('data/datasplit_fold{}.csv'.format(FOLD), index=False)"
   ]
  }
 ],
 "metadata": {
  "kernelspec": {
   "display_name": ".venv",
   "language": "python",
   "name": "python3"
  },
  "language_info": {
   "codemirror_mode": {
    "name": "ipython",
    "version": 3
   },
   "file_extension": ".py",
   "mimetype": "text/x-python",
   "name": "python",
   "nbconvert_exporter": "python",
   "pygments_lexer": "ipython3",
   "version": "3.11.2"
  }
 },
 "nbformat": 4,
 "nbformat_minor": 2
}
